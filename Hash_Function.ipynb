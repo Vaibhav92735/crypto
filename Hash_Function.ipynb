{
  "nbformat": 4,
  "nbformat_minor": 0,
  "metadata": {
    "colab": {
      "provenance": []
    },
    "kernelspec": {
      "name": "python3",
      "display_name": "Python 3"
    },
    "language_info": {
      "name": "python"
    }
  },
  "cells": [
    {
      "cell_type": "markdown",
      "source": [
        "Collider"
      ],
      "metadata": {
        "id": "niHF50jgODSh"
      }
    },
    {
      "cell_type": "code",
      "execution_count": null,
      "metadata": {
        "id": "lf-DqxX3N_vq"
      },
      "outputs": [],
      "source": [
        "import hashlib\n",
        "import telnetlib\n",
        "import json\n",
        "\n",
        "HOST = \"socket.cryptohack.org\"\n",
        "PORT = 13389\n",
        "\n",
        "def readline(tn):\n",
        "    return tn.read_until(b\"\\n\")\n",
        "\n",
        "def json_recv(tn):\n",
        "    line = readline(tn).decode()\n",
        "    st = line[line.find('{'):]\n",
        "    return json.loads(st)\n",
        "\n",
        "def json_send(tn, hsh):\n",
        "    request = json.dumps(hsh).encode()\n",
        "    tn.write(request)\n",
        "\n",
        "def main():\n",
        "    tn = telnetlib.Telnet(HOST, PORT)\n",
        "    print(readline(tn))\n",
        "\n",
        "    document1 = \"d131dd02c5e6eec4693d9a0698aff95c2fcab58712467eab4004583eb8fb7f8955ad340609f4b30283e488832571415a085125e8f7cdc99fd91dbdf280373c5bd8823e3156348f5bae6dacd436c919c6dd53e2b487da03fd02396306d248cda0e99f33420f577ee8ce54b67080a80d1ec69821bcb6a8839396f9652b6ff72a70\"\n",
        "    to_send = {\"document\": document1}\n",
        "    json_send(tn, to_send)\n",
        "    print(readline(tn))\n",
        "\n",
        "    document2 = \"d131dd02c5e6eec4693d9a0698aff95c2fcab50712467eab4004583eb8fb7f8955ad340609f4b30283e4888325f1415a085125e8f7cdc99fd91dbd7280373c5bd8823e3156348f5bae6dacd436c919c6dd53e23487da03fd02396306d248cda0e99f33420f577ee8ce54b67080280d1ec69821bcb6a8839396f965ab6ff72a70\"\n",
        "    to_send = {\"document\": document2}\n",
        "    json_send(tn, to_send)\n",
        "    print(readline(tn))\n",
        "\n",
        "    tn.close()\n",
        "\n",
        "if __name__ == \"__main__\":\n",
        "    main()"
      ]
    },
    {
      "cell_type": "markdown",
      "source": [
        "Hash Stuffing"
      ],
      "metadata": {
        "id": "w1x4BlBQOJbL"
      }
    },
    {
      "cell_type": "code",
      "source": [
        "import telnetlib\n",
        "import json\n",
        "\n",
        "def solve():\n",
        "    HOST = \"socket.cryptohack.org\"\n",
        "    PORT = 13405\n",
        "    tn = telnetlib.Telnet(HOST, PORT)\n",
        "\n",
        "    print(tn.read_until(b\"\\n\").decode())\n",
        "\n",
        "    m1 = bytes([0] * 32)\n",
        "    m2 = bytes([0] * 32)\n",
        "    payload = {\"m1\": m1.hex(), \"m2\": m2.hex()}\n",
        "\n",
        "    request = json.dumps(payload).encode()\n",
        "    tn.write(request + b\"\\n\")\n",
        "\n",
        "    print(tn.read_until(b\"\\n\").decode())\n",
        "    tn.close()\n",
        "\n",
        "if __name__ == \"__main__\":\n",
        "    solve()"
      ],
      "metadata": {
        "id": "8uRiU1mYONqS"
      },
      "execution_count": null,
      "outputs": []
    },
    {
      "cell_type": "markdown",
      "source": [
        "PrimeD5"
      ],
      "metadata": {
        "id": "aMfpmZnfPZmO"
      }
    },
    {
      "cell_type": "code",
      "source": [
        "import telnetlib\n",
        "import json\n",
        "\n",
        "HOST = \"socket.cryptohack.org\"\n",
        "PORT = 13392\n",
        "\n",
        "def readline(tn):\n",
        "    return tn.read_until(b\"\\n\")\n",
        "\n",
        "def json_recv(tn):\n",
        "    line = readline(tn).decode()\n",
        "    st = line[line.find('{'):]\n",
        "    return json.loads(st)\n",
        "\n",
        "def json_send(tn, data):\n",
        "    request = json.dumps(data).encode()\n",
        "    tn.write(request)\n",
        "\n",
        "p1 = 168372483594051730655820996690138951969774005433766395387688615584540140900710691132801423560880645636787567562700867844996261531963192453964591654200576712262132526428152200379167640852910063046101763828915652400127047206140061076598343986693012019419450608867077881990659651358706028092457741758989240675419\n",
        "p2 = 168372483594051730655820847988448104191467725627516580397632602458519974961264785555615491966814929596350213045869418229361202552090813434667286608742052157771561747345094090139716153234602501559552683217011241305167105930521986107755305298240599816862664295649343744749267908466585047521912073669770255838299\n",
        "\n",
        "tn = telnetlib.Telnet(HOST, PORT)\n",
        "print(readline(tn).decode())\n",
        "\n",
        "to_send = {\"option\": \"sign\", \"prime\": p1}\n",
        "json_send(tn, to_send)\n",
        "sig = json_recv(tn)\n",
        "\n",
        "to_send = {\"option\": \"check\", \"prime\": p2, \"signature\": sig[\"signature\"], \"a\": 3119}\n",
        "json_send(tn, to_send)\n",
        "print(json_recv(tn))"
      ],
      "metadata": {
        "id": "XiAjf-7SPkQe"
      },
      "execution_count": null,
      "outputs": []
    }
  ]
}