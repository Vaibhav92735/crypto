{
  "nbformat": 4,
  "nbformat_minor": 0,
  "metadata": {
    "colab": {
      "provenance": []
    },
    "kernelspec": {
      "name": "python3",
      "display_name": "Python 3"
    },
    "language_info": {
      "name": "python"
    }
  },
  "cells": [
    {
      "cell_type": "markdown",
      "source": [
        "Generators of Groups"
      ],
      "metadata": {
        "id": "Pl8UiA_ST38L"
      }
    },
    {
      "cell_type": "code",
      "execution_count": null,
      "metadata": {
        "id": "00qJZGm3TxRN"
      },
      "outputs": [],
      "source": [
        "def power_mod(base, exp, mod):\n",
        "    result = 1\n",
        "    while exp > 0:\n",
        "        if exp % 2 == 1:\n",
        "            result = (result * base) % mod\n",
        "        base = (base * base) % mod\n",
        "        exp //= 2\n",
        "    return result\n",
        "\n",
        "def is_primitive_root(g, p, factors):\n",
        "    for q in factors:\n",
        "        if power_mod(g, (p-1) // q, p) == 1:\n",
        "            return False\n",
        "    return True\n",
        "\n",
        "p = 28151\n",
        "p_minus_1 = p - 1\n",
        "factors = [2, 5, 25, 563]\n",
        "g = 2\n",
        "while not is_primitive_root(g, p, factors):\n",
        "    g += 1\n",
        "\n",
        "print(g)"
      ]
    },
    {
      "cell_type": "markdown",
      "source": [
        "Computing Public Values"
      ],
      "metadata": {
        "id": "4olPKTYDUOrT"
      }
    },
    {
      "cell_type": "code",
      "source": [
        "g = 2\n",
        "p = 2410312426921032588552076022197566074856950548502459942654116941958108831682612228890093858261341614673227141477904012196503648957050582631942730706805009223062734745341073406696246014589361659774041027169249453200378729434170325843778659198143763193776859869524088940195577346119843545301547043747207749969763750084308926339295559968882457872412993810129130294592999947926365264059284647209730384947211681434464714438488520940127459844288859336526896320919633919\n",
        "a = 972107443837033796245864316200458246846904598488981605856765890478853088246897345487328491037710219222038930943365848626194109830309179393018216763327572120124760140018038673999837643377590434413866611132403979547150659053897355593394492586978400044375465657296027592948349589216415363722668361328689588996541370097559090335137676411595949335857341797148926151694299575970292809805314431447043469447485957669949989090202320234337890323293401862304986599884732815\n",
        "\n",
        "result = pow(g, a, p)\n",
        "\n",
        "print(result)"
      ],
      "metadata": {
        "id": "d9qg3JM3UUEd"
      },
      "execution_count": null,
      "outputs": []
    },
    {
      "cell_type": "markdown",
      "source": [
        "Computing Shared Secrets"
      ],
      "metadata": {
        "id": "TjiOYilTUXoW"
      }
    },
    {
      "cell_type": "code",
      "source": [
        "p = 2410312426921032588552076022197566074856950548502459942654116941958108831682612228890093858261341614673227141477904012196503648957050582631942730706805009223062734745341073406696246014589361659774041027169249453200378729434170325843778659198143763193776859869524088940195577346119843545301547043747207749969763750084308926339295559968882457872412993810129130294592999947926365264059284647209730384947211681434464714438488520940127459844288859336526896320919633919\n",
        "A = 70249943217595468278554541264975482909289174351516133994495821400710625291840101960595720462672604202133493023241393916394629829526272643847352371534839862030410331485087487331809285533195024369287293217083414424096866925845838641840923193480821332056735592483730921055532222505605661664236182285229504265881752580410194731633895345823963910901731715743835775619780738974844840425579683385344491015955892106904647602049559477279345982530488299847663103078045601\n",
        "b = 12019233252903990344598522535774963020395770409445296724034378433497976840167805970589960962221948290951873387728102115996831454482299243226839490999713763440412177965861508773420532266484619126710566414914227560103715336696193210379850575047730388378348266180934946139100479831339835896583443691529372703954589071507717917136906770122077739814262298488662138085608736103418601750861698417340264213867753834679359191427098195887112064503104510489610448294420720\n",
        "\n",
        "shared_secret = pow(A, b, p)\n",
        "print(shared_secret)"
      ],
      "metadata": {
        "id": "ssNtmhV8UaAO"
      },
      "execution_count": null,
      "outputs": []
    },
    {
      "cell_type": "markdown",
      "source": [
        "Deriving Symmetric Keys"
      ],
      "metadata": {
        "id": "ReqTEyf3UdSj"
      }
    },
    {
      "cell_type": "code",
      "source": [
        "from Crypto.Cipher import AES\n",
        "from Crypto.Util.Padding import unpad\n",
        "import hashlib\n",
        "\n",
        "def is_pkcs7_padded(message):\n",
        "    padding = message[-message[-1]:]\n",
        "    return all(p == len(padding) for p in padding)\n",
        "\n",
        "def decrypt_flag(shared_secret: int, iv: str, ciphertext: str):\n",
        "    sha1 = hashlib.sha1()\n",
        "    sha1.update(str(shared_secret).encode('ascii'))\n",
        "    key = sha1.digest()[:16]\n",
        "\n",
        "    ciphertext_bytes = bytes.fromhex(ciphertext)\n",
        "    iv_bytes = bytes.fromhex(iv)\n",
        "    cipher = AES.new(key, AES.MODE_CBC, iv_bytes)\n",
        "    plaintext = cipher.decrypt(ciphertext_bytes)\n",
        "\n",
        "    if is_pkcs7_padded(plaintext):\n",
        "        return unpad(plaintext, 16).decode('ascii')\n",
        "    else:\n",
        "        return plaintext.decode('ascii')\n",
        "\n",
        "g = 2\n",
        "p = 2410312426921032588552076022197566074856950548502459942654116941958108831682612228890093858261341614673227141477904012196503648957050582631942730706805009223062734745341073406696246014589361659774041027169249453200378729434170325843778659198143763193776859869524088940195577346119843545301547043747207749969763750084308926339295559968882457872412993810129130294592999947926365264059284647209730384947211681434464714438488520940127459844288859336526896320919633919\n",
        "A = 112218739139542908880564359534373424013016249772931962692237907571990334483528877513809272625610512061159061737608547288558662879685086684299624481742865016924065000555267977830144740364467977206555914781236397216033805882207640219686011643468275165718132888489024688846101943642459655423609111976363316080620471928236879737944217503462265615774774318986375878440978819238346077908864116156831874695817477772477121232820827728424890845769152726027520772901423784\n",
        "b = 197395083814907028991785772714920885908249341925650951555219049411298436217190605190824934787336279228785809783531814507661385111220639329358048196339626065676869119737979175531770768861808581110311903548567424039264485661330995221907803300824165469977099494284722831845653985392791480264712091293580274947132480402319812110462641143884577706335859190668240694680261160210609506891842793868297672619625924001403035676872189455767944077542198064499486164431451944\n",
        "shared_secret = pow(A, b, p)\n",
        "iv = '737561146ff8194f45290f5766ed6aba'\n",
        "ciphertext = '39c99bf2f0c14678d6a5416faef954b5893c316fc3c48622ba1fd6a9fe85f3dc72a29c394cf4bc8aff6a7b21cae8e12c'\n",
        "flag = decrypt_flag(shared_secret, iv, ciphertext)\n",
        "print(flag)"
      ],
      "metadata": {
        "id": "Z7oxZ3soUjZM"
      },
      "execution_count": null,
      "outputs": []
    },
    {
      "cell_type": "markdown",
      "source": [
        "Parameter Injection"
      ],
      "metadata": {
        "id": "MljceUtPUq58"
      }
    },
    {
      "cell_type": "code",
      "source": [
        "import socket\n",
        "import json\n",
        "import hashlib\n",
        "from Crypto.Cipher import AES\n",
        "\n",
        "def enc(s):\n",
        "    s.connect((HOST,PORT))\n",
        "    s.recv(1024)\n",
        "    data = s.recv(804)\n",
        "    data2 = json.loads(data)\n",
        "    p = int(data2['p'],16)\n",
        "    A = int(data2['A'],16)\n",
        "    s.recv(100)\n",
        "    s.send(data)\n",
        "    s.recv(1024)\n",
        "    data3 = s.recv(404-9)\n",
        "    data3 = b'{\"B\" : \"0x83e907190b6484aa982847f873111a28a3f1a0617a0973b24f8ed036d01d01009f050fa636cfe030cdd26f1309465cdea4ebc97d421fa5ebeedda63d948c8b00e81c8e8e63e720ad74bf867139ac2112883928d0441290f9f40e67a44e4447b7f8841f6f573b8b6a85d679bb611d7f026a4c2c904dd4a97a2d0048531f43b78e7c539d9e59149229ed32630506d11f13b42609bb4b8c4644e0f3ede537022ac7de96288c1794746f3f57b25a2668363a4314879c3834a9961ba3800f7de4798d\"}'\n",
        "\n",
        "    s.recv(100)\n",
        "    s.send(data3)\n",
        "    s.recv(20+4)\n",
        "    enc = s.recv(1000).strip().decode()\n",
        "    enc = json.loads(enc)\n",
        "    iv = enc['iv']\n",
        "    enc_flag = enc['encrypted_flag']\n",
        "    return A,p,enc_flag,iv\n",
        "\n",
        "def decrypt(shared_key,enc_flag,iv):\n",
        "    sha1 = hashlib.sha1()\n",
        "    sha1.update(str(shared_key).encode('ascii'))\n",
        "    key = sha1.digest()[:16]\n",
        "    ciphertext = bytes.fromhex(enc_flag)\n",
        "    iv = bytes.fromhex(iv)\n",
        "    cipher = AES.new(key, AES.MODE_CBC, iv)\n",
        "    plaintext = cipher.decrypt(ciphertext)\n",
        "    return plaintext\n",
        "\n",
        "if __name__ == \"__main__\":\n",
        "    HOST = \"socket.cryptohack.org\"\n",
        "    PORT = 13371\n",
        "\n",
        "    sock = socket.socket(socket.AF_INET, socket.SOCK_STREAM)\n",
        "    Alice_pub,prime,enc_flag,iv = enc(sock)\n",
        "    private_key = 197395083814907028991785772714920885908249341925650951555219049411298436217190605190824934787336279228785809783531814507661385111220639329358048196339626065676869119737979175531770768861808581110311903548567424039264485661330995221907803300824165469977099494284722831845653985392791480264712091293580274947132480402319812110462641143884577706335859190668240694680261160210609506891842793868297672619625924001403035676872189455767944077542198064499486164431451944\n",
        "    shared_key = pow(Alice_pub,private_key,prime)\n",
        "    flag = decrypt(shared_key,enc_flag,iv).decode()\n",
        "    print(flag)"
      ],
      "metadata": {
        "id": "utdZjdXBUtNA"
      },
      "execution_count": null,
      "outputs": []
    },
    {
      "cell_type": "markdown",
      "source": [
        "Export Grade"
      ],
      "metadata": {
        "id": "7XnosCWsVfWO"
      }
    },
    {
      "cell_type": "code",
      "source": [
        "from Crypto.Util.number import long_to_bytes\n",
        "from Crypto.Cipher import AES\n",
        "from math import gcd\n",
        "\n",
        "from socket import socket\n",
        "import hashlib\n",
        "import random\n",
        "import json\n",
        "\n",
        "def is_pkcs7_padded(message):\n",
        "    padding = message[-message[-1]:]\n",
        "    return all(padding[i] == len(padding) for i in range(0, len(padding)))\n",
        "\n",
        "buf = \"\"\n",
        "def readline(r):\n",
        "    buf = \"\"\n",
        "    while True:\n",
        "        data = r.recv(1024).decode()\n",
        "        buf += data\n",
        "        if \"\\n\" in data:\n",
        "            return buf.strip()\n",
        "\n",
        "\n",
        "def sendline(r, msg):\n",
        "    r.send(msg + '\\n')\n",
        "\n",
        "\n",
        "r = socket()\n",
        "r.connect((\"socket.cryptohack.org\", 13379))\n",
        "\n",
        "DHs = json.loads(readline(r)[23:-1])\n",
        "\n",
        "sendline(r, json.dumps({\"supported\":[DHs['supported'][-1]]}))\n",
        "\n",
        "DH = json.loads(readline(r)[35:-1])\n",
        "\n",
        "sendline(r, json.dumps(DH))\n",
        "alice = json.loads(readline(r)[38:-1])\n",
        "\n",
        "p = int(alice['p'], 16)\n",
        "g = int(alice['g'], 16)\n",
        "A = int(alice['A'], 16)\n",
        "\n",
        "bob = json.loads(readline(r)[21:-1])\n",
        "\n",
        "B = int(bob['B'], 16)\n",
        "\n",
        "ciphertext = json.loads(readline(r)[23:-1])\n",
        "R = IntegerModRing(p)\n",
        "a = discrete_log(R(A), R(g))\n",
        "\n",
        "assert pow(g, a, p) == A\n",
        "\n",
        "s = pow(B, a, p)\n",
        "\n",
        "shared_secret = str(s).encode('ascii')\n",
        "\n",
        "sha1 = hashlib.sha1()\n",
        "sha1.update(shared_secret)\n",
        "\n",
        "KEY = sha1.digest()[:16]\n",
        "\n",
        "cipher = AES.new(KEY, AES.MODE_CBC, ciphertext['iv'].decode('hex'))\n",
        "plaintext = cipher.decrypt(ciphertext['encrypted_flag'].decode('hex'))\n",
        "\n",
        "print(plaintext)"
      ],
      "metadata": {
        "id": "EXTK95qkVhPi"
      },
      "execution_count": null,
      "outputs": []
    },
    {
      "cell_type": "markdown",
      "source": [
        "Static Client"
      ],
      "metadata": {
        "id": "PbsOrGMMYJZW"
      }
    },
    {
      "cell_type": "code",
      "source": [
        "import hashlib\n",
        "import json\n",
        "import ptrlib\n",
        "from Crypto.Cipher import AES\n",
        "from Crypto.Util.Padding import unpad\n",
        "sock = ptrlib.Socket(\"socket.cryptohack.org\", 13373)\n",
        "hex2int = lambda s: int(s[2:], 16)\n",
        "parse_ct = lambda msg: tuple(bytes.fromhex(msg[x]) for x in ('iv', 'encrypted'))\n",
        "intercept_alice = lambda: json.loads(sock.recvlineafter('Intercepted from Alice: '))\n",
        "intercept_bob = lambda: json.loads(sock.recvlineafter('Intercepted from Bob: '))\n",
        "recv_bob = lambda: json.loads(sock.recvlineafter('Bob says to you: '))\n",
        "send_bob = lambda payload: sock.sendlineafter('Bob connects to you, send him some parameters: ', json.dumps(payload))\n",
        "\n",
        "def decrypt_msg(shared_secret, iv, ct):\n",
        "    key = hashlib.sha1(str(shared_secret).encode('ascii')).digest()[:16]\n",
        "\n",
        "    cipher = AES.new(key, AES.MODE_CBC, iv)\n",
        "    pt = unpad(cipher.decrypt(ct), 16)\n",
        "\n",
        "    return pt\n",
        "\n",
        "msg = intercept_alice()\n",
        "p, g, A = (hex2int(msg[x]) for x in 'pgA')\n",
        "\n",
        "msg = intercept_bob()\n",
        "B = hex2int(msg['B'])\n",
        "\n",
        "msg = intercept_alice()\n",
        "iv, ct = parse_ct(msg)\n",
        "\n",
        "send_bob({ 'p': hex(p), 'g': hex(A), 'A': hex(0) })\n",
        "\n",
        "msg = recv_bob()\n",
        "B2 = hex2int(msg['B'])\n",
        "\n",
        "msg = recv_bob()\n",
        "iv2, ct2 = parse_ct(msg)\n",
        "pt2 = decrypt_msg(0, iv2, ct2)\n",
        "print(pt2)\n",
        "pt = decrypt_msg(B2, iv, ct)\n",
        "print(pt)"
      ],
      "metadata": {
        "id": "3yx1tebhYLhv"
      },
      "execution_count": null,
      "outputs": []
    },
    {
      "cell_type": "markdown",
      "source": [
        "Additive"
      ],
      "metadata": {
        "id": "ahv-KSCgYWF4"
      }
    },
    {
      "cell_type": "code",
      "source": [
        "from Crypto.Cipher import AES\n",
        "from Crypto.Util.Padding import pad, unpad\n",
        "from Crypto.Util.number import inverse\n",
        "import hashlib\n",
        "from sympy.ntheory.residue_ntheory import discrete_log\n",
        "\n",
        "def is_valid_pkcs7_padding(data):\n",
        "    padding_length = data[-1]\n",
        "    return all(data[i] == padding_length for i in range(-padding_length, 0))\n",
        "\n",
        "def decrypt(shared_secret_int: int, iv_hex: str, encrypted_message_hex: str):\n",
        "    sha1_hash = hashlib.sha1()\n",
        "    sha1_hash.update(str(shared_secret_int).encode('utf-8'))\n",
        "    aes_key = sha1_hash.digest()[:16]\n",
        "    iv = bytes.fromhex(iv_hex)\n",
        "    ciphertext = bytes.fromhex(encrypted_message_hex)\n",
        "    cipher = AES.new(aes_key, AES.MODE_CBC, iv)\n",
        "    decrypted_message = cipher.decrypt(ciphertext)\n",
        "    if is_valid_pkcs7_padding(decrypted_message):\n",
        "        return unpad(decrypted_message, 16).decode('utf-8')\n",
        "    else:\n",
        "        return decrypted_message.decode('utf-8')\n",
        "\n",
        "p = 0xffffffffffffffffc90fdaa22168c234c4c6628b80dc1cd129024e088a67cc74020bbea63b139b22514a08798e3404ddef9519b3cd3a431b302b0a6df25f14374fe1356d6d51c245e485b576625e7ec6f44c42e9a637ed6b0bff5cb6f406b7edee386bfb5a899fa5ae9f24117c4b1fe649286651ece45b3dc2007cb8a163bf0598da48361c55d39a69163fa8fd24cf5f83655d23dca3ad961c62f356208552bb9ed529077096966d670c354e4abc9804f1746c08ca237327ffffffffffffffff\n",
        "g = 0x2\n",
        "A = 0x190766d4be1c2ec1c00f7838764a46288c28567d5e093e49ef71587272f80bed58f8c47c70a99f4b0eceab6d659ce8d2c8475b10f93fc5123017fb54a875a9b18191af5dac0d857c28953fba4d10b2a1dfcb83bbb0f29bfa10fdb15ce8af2b8d441a00b1cf0f2e0634bb0aa912a9a6107b205b225a52a6d822ad7c31c402ae93a6d2d77b5664cae2703433170fdf1703abf7f30f353752ad9cc98db09f6f1e891e20535081cfe86f5e1415d5f2aca3956f2eb6691901d3e55cfcbe3f2a3a550b\n",
        "B = 0x92092dfaafe2de9fa585c26f79aa763c1069cb6e37d0f68c655d89fc9e99f17703c9336558b8cd49bc72de084a2e7736644d7c79147ee4bd93c8bffe883a9442a2bbf269a07c9af81b56b5af1fe523d7201acd9636e52e3f0a07ae124e986d94560c044a9a62ae916ec89c4450c2a31a3b6c400d21b00bbb292611bf504d5a22282dc767dca91f0573da8fa35a8deaa1307bf272589af97052d6402b69c34313fa5d7a4c06d6cbca70b0e74979821cf09f5f581a2f3fb86c6f455863caa9f0b0\n",
        "a = A * inverse(g, p)\n",
        "shared_secret = (a * B) % p\n",
        "iv = \"317c46f08dd3bbe5138d8b53163402ea\"\n",
        "ciphertext = \"636a2cab48228912618557d1355cda5dc104839b1db454b5aa62c397c92dd876a56d13a3c291f4dfbfddfd37b837f5e0\"\n",
        "flag = decrypt(shared_secret, iv, ciphertext)\n",
        "print(flag)"
      ],
      "metadata": {
        "id": "4gQ1QgB8YXW9"
      },
      "execution_count": null,
      "outputs": []
    },
    {
      "cell_type": "markdown",
      "source": [
        "Static Client 2"
      ],
      "metadata": {
        "id": "PvQHjggrYa-Q"
      }
    },
    {
      "cell_type": "code",
      "source": [],
      "metadata": {
        "id": "nfQJ1QULYczs"
      },
      "execution_count": null,
      "outputs": []
    },
    {
      "cell_type": "markdown",
      "source": [
        "Script Kiddie"
      ],
      "metadata": {
        "id": "l6tp62ReYnwJ"
      }
    },
    {
      "cell_type": "code",
      "source": [
        "from Crypto.Cipher import AES\n",
        "from Crypto.Util.Padding import pad, unpad\n",
        "from Crypto.Util.number import inverse\n",
        "import hashlib\n",
        "from sympy.ntheory.residue_ntheory import discrete_log\n",
        "\n",
        "def is_valid_pkcs7_padding(data):\n",
        "    padding_length = data[-1]\n",
        "    return all(data[i] == padding_length for i in range(-padding_length, 0))\n",
        "\n",
        "def decrypt(shared_secret_int: int, iv_hex: str, encrypted_message_hex: str):\n",
        "    sha1_hash = hashlib.sha1()\n",
        "    sha1_hash.update(str(shared_secret_int).encode('utf-8'))\n",
        "    aes_key = sha1_hash.digest()[:16]\n",
        "    iv = bytes.fromhex(iv_hex)\n",
        "    ciphertext = bytes.fromhex(encrypted_message_hex)\n",
        "    cipher = AES.new(aes_key, AES.MODE_CBC, iv)\n",
        "    decrypted_message = cipher.decrypt(ciphertext)\n",
        "    if is_valid_pkcs7_padding(decrypted_message):\n",
        "        return unpad(decrypted_message, 16).decode('utf-8')\n",
        "    else:\n",
        "        return decrypted_message.decode('utf-8')\n",
        "\n",
        "p = 0xffffffffffffffffc90fdaa22168c234c4c6628b80dc1cd129024e088a67cc74020bbea63b139b22514a08798e3404ddef9519b3cd3a431b302b0a6df25f14374fe1356d6d51c245e485b576625e7ec6f44c42e9a637ed6b0bff5cb6f406b7edee386bfb5a899fa5ae9f24117c4b1fe649286651ece45b3dc2007cb8a163bf0598da48361c55d39a69163fa8fd24cf5f83655d23dca3ad961c62f356208552bb9ed529077096966d670c354e4abc9804f1746c08ca237327ffffffffffffffff\n",
        "g = 0x2\n",
        "A = 0x190766d4be1c2ec1c00f7838764a46288c28567d5e093e49ef71587272f80bed58f8c47c70a99f4b0eceab6d659ce8d2c8475b10f93fc5123017fb54a875a9b18191af5dac0d857c28953fba4d10b2a1dfcb83bbb0f29bfa10fdb15ce8af2b8d441a00b1cf0f2e0634bb0aa912a9a6107b205b225a52a6d822ad7c31c402ae93a6d2d77b5664cae2703433170fdf1703abf7f30f353752ad9cc98db09f6f1e891e20535081cfe86f5e1415d5f2aca3956f2eb6691901d3e55cfcbe3f2a3a550b\n",
        "B = 0x92092dfaafe2de9fa585c26f79aa763c1069cb6e37d0f68c655d89fc9e99f17703c9336558b8cd49bc72de084a2e7736644d7c79147ee4bd93c8bffe883a9442a2bbf269a07c9af81b56b5af1fe523d7201acd9636e52e3f0a07ae124e986d94560c044a9a62ae916ec89c4450c2a31a3b6c400d21b00bbb292611bf504d5a22282dc767dca91f0573da8fa35a8deaa1307bf272589af97052d6402b69c34313fa5d7a4c06d6cbca70b0e74979821cf09f5f581a2f3fb86c6f455863caa9f0b0\n",
        "a = A * inverse(g, p)\n",
        "shared_secret = (a * B) % p\n",
        "iv = \"317c46f08dd3bbe5138d8b53163402ea\"\n",
        "ciphertext = \"636a2cab48228912618557d1355cda5dc104839b1db454b5aa62c397c92dd876a56d13a3c291f4dfbfddfd37b837f5e0\"\n",
        "flag = decrypt(shared_secret, iv, ciphertext)\n",
        "print(flag)"
      ],
      "metadata": {
        "id": "2C5kTsA_YqAn"
      },
      "execution_count": null,
      "outputs": []
    },
    {
      "cell_type": "markdown",
      "source": [
        "The Matrix"
      ],
      "metadata": {
        "id": "4VqyKcSkZkTE"
      }
    },
    {
      "cell_type": "code",
      "source": [
        "P = 2\n",
        "N = 50\n",
        "E = 31337\n",
        "\n",
        "def binary2bytes(s):\n",
        "    return int(s, 2).to_bytes((len(s) + 7) // 8, byteorder='big')\n",
        "\n",
        "def read_matrix(m):\n",
        "    l = []\n",
        "    for y in range(50):\n",
        "        for x in m:\n",
        "            l.append(str(x[y]))\n",
        "    plaintext = (\"\".join(l))\n",
        "    return binary2bytes(plaintext[:2480])\n",
        "\n",
        "def load_matrix(fname):\n",
        "    data = open(fname, 'r').read().strip()\n",
        "    rows = [list(map(int, row)) for row in data.splitlines()]\n",
        "    return Matrix(GF(P), rows)\n",
        "\n",
        "c = load_matrix(\"flag.enc\")\n",
        "c = c ** pow(E, -1, c.multiplicative_order())\n",
        "print(read_matrix(c))"
      ],
      "metadata": {
        "id": "GCamDS1EZltx"
      },
      "execution_count": null,
      "outputs": []
    },
    {
      "cell_type": "markdown",
      "source": [
        "The Matrix Reloaded"
      ],
      "metadata": {
        "id": "dIH5rdgmZmQj"
      }
    },
    {
      "cell_type": "code",
      "source": [
        "from Crypto.Util.number import isPrime, long_to_bytes, getPrime\n",
        "from sympy.ntheory.residue_ntheory import discrete_log\n",
        "from json import loads, dumps\n",
        "import socket\n",
        "\n",
        "host = \"socket.cryptohack.org\"\n",
        "port = 13378\n",
        "s = socket.socket(socket.AF_INET, socket.SOCK_STREAM)\n",
        "s.connect((host, port))\n",
        "\n",
        "def recv_data():\n",
        "    return s.recv(1024).decode()\n",
        "\n",
        "A_data = loads(recv_data().split(\":\", 1)[1].strip())\n",
        "B_data = loads(recv_data().split(\":\", 1)[1].strip())\n",
        "cipher = loads(recv_data().split(\":\", 1)[1].strip())\n",
        "\n",
        "p = int(A_data[\"p\"], 16)\n",
        "A = int(A_data[\"A\"], 16)\n",
        "\n",
        "i = 2\n",
        "smooth_p = 1\n",
        "while smooth_p < p or not isPrime(smooth_p + 1):\n",
        "    smooth_p *= i\n",
        "    i += 1\n",
        "smooth_p += 1\n",
        "\n",
        "s.sendall(dumps({\n",
        "    \"g\": \"0x02\",\n",
        "    \"A\": hex(A),\n",
        "    \"p\": hex(smooth_p)\n",
        "}).encode() + b'\\n')\n",
        "\n",
        "B = int(recv_data().split()[13][1:-2], 16)\n",
        "b = discrete_log(smooth_p, B, 2)\n",
        "\n",
        "shared_secret = pow(A, b, p)\n",
        "print(f\"Shared secret: {shared_secret}\")\n",
        "s.close()"
      ],
      "metadata": {
        "id": "jWNHqlREZojJ"
      },
      "execution_count": null,
      "outputs": []
    }
  ]
}